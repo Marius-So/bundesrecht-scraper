{
 "cells": [
  {
   "cell_type": "code",
   "execution_count": 7,
   "metadata": {},
   "outputs": [],
   "source": [
    "import os\n",
    "import glob\n",
    "import json\n",
    "import pandas as pd"
   ]
  },
  {
   "cell_type": "code",
   "execution_count": 4,
   "metadata": {},
   "outputs": [
    {
     "name": "stdout",
     "output_type": "stream",
     "text": [
      "0\n",
      "1000\n",
      "2000\n",
      "3000\n",
      "4000\n",
      "5000\n",
      "6000\n"
     ]
    }
   ],
   "source": [
    "all_texts = glob.glob('data/*/*.json')\n",
    "all_info = {}\n",
    "\n",
    "for idx,file in enumerate(all_texts):\n",
    "    if (idx%1000)==0: print(idx)\n",
    "    with open(file, 'r') as f:\n",
    "    # Load the JSON data into a Python dictionary\n",
    "        all_info[file] = json.load(f)\n"
   ]
  },
  {
   "cell_type": "code",
   "execution_count": 5,
   "metadata": {},
   "outputs": [],
   "source": [
    "cataloge_of_laws = []\n",
    "for key, item in all_info.items():\n",
    "    if isinstance(item['norm'], list):\n",
    "        cataloge_of_laws.append(item['norm'][0]['metadaten'])\n",
    "    else:\n",
    "        cataloge_of_laws.append(item['norm']['metadaten'])"
   ]
  },
  {
   "cell_type": "code",
   "execution_count": 10,
   "metadata": {},
   "outputs": [],
   "source": [
    "pd.DataFrame(cataloge_of_laws).to_excel('gesetzesKatalog.xlsx',index = False)"
   ]
  }
 ],
 "metadata": {
  "kernelspec": {
   "display_name": "Python 3",
   "language": "python",
   "name": "python3"
  },
  "language_info": {
   "codemirror_mode": {
    "name": "ipython",
    "version": 3
   },
   "file_extension": ".py",
   "mimetype": "text/x-python",
   "name": "python",
   "nbconvert_exporter": "python",
   "pygments_lexer": "ipython3",
   "version": "3.9.7"
  }
 },
 "nbformat": 4,
 "nbformat_minor": 2
}
