{
 "cells": [
  {
   "cell_type": "code",
   "execution_count": 4,
   "metadata": {},
   "outputs": [],
   "source": [
    "import pandas as pd\n",
    "import os\n",
    "import glob"
   ]
  },
  {
   "cell_type": "code",
   "execution_count": 8,
   "metadata": {},
   "outputs": [],
   "source": [
    "all_texts = glob.glob('data/*/*.xml')"
   ]
  },
  {
   "cell_type": "code",
   "execution_count": null,
   "metadata": {},
   "outputs": [],
   "source": [
    "def parse"
   ]
  },
  {
   "cell_type": "code",
   "execution_count": 18,
   "metadata": {},
   "outputs": [
    {
     "data": {
      "text/plain": [
       "'test.xml'"
      ]
     },
     "execution_count": 18,
     "metadata": {},
     "output_type": "execute_result"
    }
   ],
   "source": [
    "import shutil\n",
    "shutil.copy(all_texts[0], 'test.xml')"
   ]
  },
  {
   "cell_type": "code",
   "execution_count": 27,
   "metadata": {},
   "outputs": [
    {
     "ename": "TypeError",
     "evalue": "a bytes-like object is required, not 'str'",
     "output_type": "error",
     "traceback": [
      "\u001b[0;31m---------------------------------------------------------------------------\u001b[0m",
      "\u001b[0;31mTypeError\u001b[0m                                 Traceback (most recent call last)",
      "\u001b[0;32m/var/folders/6g/rj6dgcl9205fzzzl_2g2vslh0000gn/T/ipykernel_28893/4034108061.py\u001b[0m in \u001b[0;36m<module>\u001b[0;34m\u001b[0m\n\u001b[1;32m     30\u001b[0m \u001b[0;31m# Write JSON data to a file with UTF-8 encoding\u001b[0m\u001b[0;34m\u001b[0m\u001b[0;34m\u001b[0m\u001b[0m\n\u001b[1;32m     31\u001b[0m \u001b[0;32mwith\u001b[0m \u001b[0mopen\u001b[0m\u001b[0;34m(\u001b[0m\u001b[0;34m'output.json'\u001b[0m\u001b[0;34m,\u001b[0m \u001b[0;34m'wb'\u001b[0m\u001b[0;34m)\u001b[0m \u001b[0;32mas\u001b[0m \u001b[0mf\u001b[0m\u001b[0;34m:\u001b[0m\u001b[0;34m\u001b[0m\u001b[0;34m\u001b[0m\u001b[0m\n\u001b[0;32m---> 32\u001b[0;31m     \u001b[0mf\u001b[0m\u001b[0;34m.\u001b[0m\u001b[0mwrite\u001b[0m\u001b[0;34m(\u001b[0m\u001b[0mjson_data\u001b[0m\u001b[0;34m)\u001b[0m\u001b[0;34m\u001b[0m\u001b[0;34m\u001b[0m\u001b[0m\n\u001b[0m",
      "\u001b[0;31mTypeError\u001b[0m: a bytes-like object is required, not 'str'"
     ]
    }
   ],
   "source": [
    "import xml.etree.ElementTree as ET\n",
    "import json\n",
    "\n",
    "# Parse XML data from a file\n",
    "tree = ET.parse('test.xml')\n",
    "root = tree.getroot()\n",
    "\n",
    "# Function to convert XML element to dictionary\n",
    "def xml_to_dict(element):\n",
    "    data = {}\n",
    "    for child in element:\n",
    "        if child:\n",
    "            if child.tag in data:\n",
    "                if isinstance(data[child.tag], list):\n",
    "                    data[child.tag].append(xml_to_dict(child))\n",
    "                else:\n",
    "                    data[child.tag] = [data[child.tag], xml_to_dict(child)]\n",
    "            else:\n",
    "                data[child.tag] = xml_to_dict(child)\n",
    "        else:\n",
    "            data[child.tag] = child.text\n",
    "    return data\n",
    "\n",
    "# Convert XML to dictionary\n",
    "xml_data = xml_to_dict(root)\n",
    "\n",
    "# Convert dictionary to JSON\n",
    "json_data = json.dumps(xml_data, indent=4, ensure_ascii=False).encode('utf-8')\n",
    "\n",
    "# Write JSON data to a file with UTF-8 encoding\n",
    "with open('output.json', 'wb') as f:\n",
    "    f.write(json_data)"
   ]
  },
  {
   "cell_type": "code",
   "execution_count": 33,
   "metadata": {},
   "outputs": [
    {
     "data": {
      "text/plain": [
       "{'metadaten': {'jurabk': 'ZApprO',\n",
       "  'amtabk': 'ZApprO',\n",
       "  'ausfertigung-datum': '2019-07-08',\n",
       "  'fundstelle': {'periodikum': 'BGBl I', 'zitstelle': '2019, 933'},\n",
       "  'langue': 'Approbationsordnung für Zahnärzte und Zahnärztinnen',\n",
       "  'standangabe': {'standtyp': 'Stand',\n",
       "   'standkommentar': 'Zuletzt geändert durch Art. 4 V v. 7.6.2023 I Nr. 148'}},\n",
       " 'textdaten': {'fussnoten': {'Content': {'P': {'BR': None,\n",
       "     'pre': {'BR': None}}}}}}"
      ]
     },
     "execution_count": 33,
     "metadata": {},
     "output_type": "execute_result"
    }
   ],
   "source": [
    "xml_data['norm'][0]"
   ]
  }
 ],
 "metadata": {
  "kernelspec": {
   "display_name": "Python 3",
   "language": "python",
   "name": "python3"
  },
  "language_info": {
   "codemirror_mode": {
    "name": "ipython",
    "version": 3
   },
   "file_extension": ".py",
   "mimetype": "text/x-python",
   "name": "python",
   "nbconvert_exporter": "python",
   "pygments_lexer": "ipython3",
   "version": "3.9.7"
  }
 },
 "nbformat": 4,
 "nbformat_minor": 2
}
